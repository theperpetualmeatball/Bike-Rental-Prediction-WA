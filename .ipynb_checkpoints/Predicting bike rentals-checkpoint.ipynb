{
 "cells": [
  {
   "cell_type": "markdown",
   "metadata": {},
   "source": [
    "Skills: linear regression, decision trees, random forest"
   ]
  },
  {
   "cell_type": "markdown",
   "metadata": {},
   "source": [
    "Many American cities have communal bike sharing stations where you can rent bicycles by the hour or day. Washington, D.C. is one of these cities. The District collects detailed data on the number of bicycles people rent by the hour and day.\n",
    "\n",
    "Hadi Fanaee-T at the University of Porto compiled this data into a CSV file, which you'll be working with in this project. The file contains 17380 rows, with each row representing the number of bike rentals for a single hour of a single day. You can download the data from the University of California, Irvine's website.\n",
    "\n",
    "In this project, you'll try to predict the total number of bikes people rented in a given hour. You'll predict the cnt column using all of the other columns, except for casual and registered"
   ]
  },
  {
   "cell_type": "raw",
   "metadata": {},
   "source": [
    "Here are the descriptions for the relevant columns:\n",
    "\n",
    "instant - A unique sequential ID number for each row \n",
    "dteday - The date of the rentals \n",
    "season - The season in which the rentals occurred \n",
    "yr - The year the rentals occurred \n",
    "mnth - The month the rentals occurred \n",
    "hr - The hour the rentals occurred\n",
    "holiday - Whether or not the day was a holiday\n",
    "weekday - The day of the week (as a number, 0 to 7)\n",
    "workingday - Whether or not the day was a working day\n",
    "weathersit - The weather (as a categorical variable)\n",
    "temp - The temperature, on a 0-1 scale\n",
    "atemp - The adjusted temperature\n",
    "hum - The humidity, on a 0-1 scale\n",
    "windspeed - The wind speed, on a 0-1 scale\n",
    "casual - The number of casual riders (people who hadn't previously signed up with the bike sharing program)\n",
    "registered - The number of registered riders (people who had already signed up)\n",
    "cnt - The total number of bike rentals (casual + registered)"
   ]
  },
  {
   "cell_type": "code",
   "execution_count": null,
   "metadata": {},
   "outputs": [],
   "source": []
  }
 ],
 "metadata": {
  "kernelspec": {
   "display_name": "Python 3",
   "language": "python",
   "name": "python3"
  },
  "language_info": {
   "codemirror_mode": {
    "name": "ipython",
    "version": 3
   },
   "file_extension": ".py",
   "mimetype": "text/x-python",
   "name": "python",
   "nbconvert_exporter": "python",
   "pygments_lexer": "ipython3",
   "version": "3.7.5"
  }
 },
 "nbformat": 4,
 "nbformat_minor": 2
}
